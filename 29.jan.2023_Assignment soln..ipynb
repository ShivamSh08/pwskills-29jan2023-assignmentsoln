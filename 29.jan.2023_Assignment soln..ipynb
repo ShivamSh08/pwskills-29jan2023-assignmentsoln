{
 "cells": [
  {
   "cell_type": "markdown",
   "id": "d657fcc6-abc1-432f-85a9-777aee2c6e10",
   "metadata": {},
   "source": [
    "Q1. Who Developed Python Programming Language ?\n",
    "\n",
    "Ans.<br>\n",
    "Guido van Rossum developed Python Programming Language and released in the year 1991."
   ]
  },
  {
   "cell_type": "markdown",
   "id": "9f47ea63-841c-449c-8279-98f0a79d62b6",
   "metadata": {},
   "source": [
    "Q2. Which type of Programming does Python support?\n",
    "\n",
    "Ans.<br>\n",
    "Python support object oriented programming."
   ]
  },
  {
   "cell_type": "markdown",
   "id": "9d65bf23-7dcc-4253-a76f-edb27782ad66",
   "metadata": {},
   "source": [
    "Q3. Is Python case sensitive when dealing with identifiers?\n",
    "\n",
    "Ans.<br>\n",
    "Yes, Python is case senitive when dealing with identifiers."
   ]
  },
  {
   "cell_type": "markdown",
   "id": "7a3790d6-ac91-4289-a020-593ba145c562",
   "metadata": {},
   "source": [
    "Q4. What is the correct extension of the Python file ?\n",
    "\n",
    "Ans.<br>\n",
    "The correct extension of the Python file is .py and for jupyter IDE .ipynb"
   ]
  },
  {
   "cell_type": "markdown",
   "id": "1de88bd5-02bc-47c3-b767-b2cbb9f0243c",
   "metadata": {},
   "source": [
    "Q5. Is Python code compiled or Interpreted?\n",
    "\n",
    "Ans. <br>\n",
    "Python code is a Interpreted."
   ]
  },
  {
   "cell_type": "code",
   "execution_count": 2,
   "id": "1936013d-9326-4f77-8876-60771dd131da",
   "metadata": {},
   "outputs": [
    {
     "name": "stdout",
     "output_type": "stream",
     "text": [
      "10\n",
      "Hello World\n"
     ]
    }
   ],
   "source": [
    " # Q6. Name a few blocks of code used to define in Python language ?\n",
    "#Ans.\n",
    "a= 10\n",
    "print(a)\n",
    "\n",
    "print('Hello World')"
   ]
  },
  {
   "cell_type": "markdown",
   "id": "58c987d6-d983-43e7-8ea8-09e31f8cc9bc",
   "metadata": {},
   "source": [
    "Q7. State a character used to give single-line comments in Python?\n",
    "\n",
    "Ans.<br>\n",
    "'#' is used as a chracter to give single-line comments in Python"
   ]
  },
  {
   "cell_type": "markdown",
   "id": "700581ca-85da-4e8f-baf5-d9a9fb9807df",
   "metadata": {},
   "source": [
    "Q8. Mention functions which can help us to find the version of python that we are currently working on?\n",
    "\n",
    "Ans.\n",
    "1) import sys <br>\n",
    "    print(sys.version)<br>\n",
    "    print (sys.version_info)<br>\n",
    "    \n",
    "2) import platform <br>\n",
    "    print(platform.python_version())<br>\n",
    "    print(platform.python_version_tuple())<br>\n",
    "\n",
    "3) For Windows Operating system, Mac Operating System and Linux operating System open Windows Command prompt, MacOS Terminal and Linux Terminal run the following Command to know the python current version as follows : <br>\n",
    "\n",
    "**python --version** <br>\n",
    "\n",
    "If we have a Python interpreter installed on the operating system then the command will show the version. <br>\n",
    "\n",
    "\n",
    "We can use the commands such as python --version or python -v or python -VV. All of these commands will provide a similar result. The -VV option can be used for detailed information than -V or --version. <br>"
   ]
  },
  {
   "cell_type": "code",
   "execution_count": 6,
   "id": "068be497-92eb-4fd1-9e34-c4fe63f8e009",
   "metadata": {},
   "outputs": [
    {
     "data": {
      "text/plain": [
       "'3.10.8 | packaged by conda-forge | (main, Nov 22 2022, 08:26:04) [GCC 10.4.0]'"
      ]
     },
     "execution_count": 6,
     "metadata": {},
     "output_type": "execute_result"
    }
   ],
   "source": [
    "import sys\n",
    "sys.version"
   ]
  },
  {
   "cell_type": "code",
   "execution_count": 10,
   "id": "30672aee-e91b-43ef-a0e5-340c3841ce03",
   "metadata": {},
   "outputs": [
    {
     "name": "stdout",
     "output_type": "stream",
     "text": [
      "3.10.8\n"
     ]
    }
   ],
   "source": [
    "import platform\n",
    "print(platform.python_version())"
   ]
  },
  {
   "cell_type": "markdown",
   "id": "5e96b73c-84a6-4924-807b-b2b41d5d2b4c",
   "metadata": {},
   "source": [
    "Q9. Python supports the creation of anonymous functions at runtime, using a construct called _ _ _ _ _ _ _.<br>\n",
    "Ans. **lambda**"
   ]
  },
  {
   "cell_type": "markdown",
   "id": "22195f61-8f2c-44bd-a02d-171cebd04fe2",
   "metadata": {},
   "source": [
    "Q10. What does pip stand for python ?<br>\n",
    "\n",
    "Ans.<br>\n",
    "pip stand for '**Preferred Installer Progarm**' in python."
   ]
  },
  {
   "cell_type": "markdown",
   "id": "c9d85304-2cfd-4ccc-a3d4-39d3a8385ee1",
   "metadata": {},
   "source": [
    "Q11. Mention a few built-in functions in python? <br>\n",
    "Ans.<br>\n",
    "i) print() <br>\n",
    "ii) bool() <br>\n",
    "iii)  int() <br>\n",
    "iv) str() <br>\n",
    "v) bytes() <br>\n",
    "vi) float() <br>\n",
    "vii) Complex()<br>\n",
    "viii) list()<br>\n",
    "ix) tuple()<br>\n",
    "x) range()<br>\n",
    "xi) dict()<br>\n",
    "xii) bytearray()<br>\n",
    "xiii) len()<br>"
   ]
  },
  {
   "cell_type": "markdown",
   "id": "4acd2f45-5b15-4f4b-b91d-1dbeed73d12c",
   "metadata": {},
   "source": [
    "Q12. What is the maximum possible length of an identifiers in python?<br>\n",
    "\n",
    "Ans.<br>\n",
    "The maximum possible length of an identifier in Python is of 79 characters."
   ]
  },
  {
   "cell_type": "markdown",
   "id": "ea1a2d70-70c2-4a9a-bedb-8adea3038319",
   "metadata": {},
   "source": [
    "Q13. What are the benefits of using Python? <br>\n",
    "\n",
    "Ans.<br>\n",
    "\n",
    "* Easy and simple to learn and understand.<br>\n",
    "\n",
    "* Python is a dynamically typed language.<br>\n",
    "\n",
    "* It turns the code into bytecode, which can be run on any platform.<br>\n",
    "\n",
    "* It is an extensible programming language which means we can write and compile code like any other programming language.<br>\n",
    "\n",
    "* Python is also an integrated language since it can easily be used with other programming languages such as C, C++, Java, and others.<br>\n",
    "\n",
    "* Large Open Source Community: Suppose you are working on a python project and you get stuck somewhere, you don’t have to worry because python has a huge community for help. So, if you have any queries, you can directly seek help from millions of python community members.<br>\n",
    "\n",
    "* Python supports modules and packages, which encourages program modularity and code reuse.<br>\n",
    "\n",
    "* The Python interpreter and the extensive standard library are available in source or binary form without charge for all major platforms, and can be freely distributed.<br>"
   ]
  },
  {
   "cell_type": "markdown",
   "id": "b075d570-de92-4d7c-9ff5-7ea6e2af6842",
   "metadata": {},
   "source": [
    "Q14. How is memory managed in Python?\n",
    "\n",
    "Ans.<br>\n",
    "\n",
    "Memory management in Python involves a private heap containing all Python objects and data structures. The management of this private heap is ensured internally by the Python memory manager. The Python memory manager has different components which deal with various dynamic storage management aspects, like sharing, segmentation, preallocation or caching."
   ]
  },
  {
   "cell_type": "markdown",
   "id": "6588103c-5a99-4767-b025-1c98b8f4fc7b",
   "metadata": {},
   "source": [
    "Q15. How to install Python on windows and set path variables? <br>\n",
    "\n",
    "Ans.<br>\n",
    "There are few ways to add Python to Windows PATH. In this guide, you’ll see two methods to add Python to Windows path:<br>\n",
    "\n",
    "* Via the installation of a recent version of Python<br>\n",
    "* Manual entry of the paths<br>\n",
    "\n",
    "**Method 1**: Install a Recent Version of Python<br>\n",
    "You can easily add Python to Windows path by downloading a recent version of Python, and then checking the box to **Add Python** to PATH at the bottom of the setup screen:<br>\n",
    "\n",
    "Finish the installation, and you should be good to go.<br>\n",
    "\n",
    "Alternatively, you may manually add the paths into the Environment variables.<br>\n",
    "\n",
    "**Method 2**: Manually add Python to Windows Path<br>\n",
    "If you wish to stick with the previous version of Python, you may apply the steps below to manually add Python to Windows path.<br>\n",
    "\n",
    "* First, navigate to the Windows Environment Variables screen (where you can add/edit your paths):<br>\n",
    "\n",
    "* Press the Windows Key + R on your keyboard in order to open the Run dialog box<br>\n",
    "* Type sysdm.cpl to open the System Properties<br>\n",
    "* Go to the Advanced tab and then click on the ‘Environment Variables…‘<br>\n",
    "* That should take you to the Environment Variables screen, where you can add/edit your paths.<br>\n",
    "\n",
    "Under the User variables box, click on ‘New…‘ to add the ‘Path’ variable (note that if your ‘Path’ variable already exists, then click on ‘Edit…’ instead):<br>\n",
    "You should then see the New User Variable box, where you may add/edit variables:<br>\n",
    "Before you type any values, you’ll need to locate the relevant Python paths. The paths that you’ll need to get are:<br>\n",
    "\n",
    "(1) The Python application path, which is the folder where you originally installed Python. You can find the Python application path by following these steps:<br>\n",
    "\n",
    "* Type “Python” in the Windows Search Bar<br>\n",
    "* Right-click on the Python App, and then select “Open file location“<br>\n",
    "* Right-click again on the Python shortcut, and then select “Open file location“<br>\n",
    "\n",
    "(2) The Python Scripts path. The Scripts folder should be located within the Python application path.<br>\n",
    "\n",
    "After you obtained the paths, fill the New User Variable box that you saw earlier:<br>\n",
    "\n",
    "* For the Variable name, type ‘Path‘.\n",
    "* For the Variable value, copy the full Python application path, then use semicolon (as highlighted in yellow below), and finally copy the Python Scripts path.\n",
    "\n",
    "Press ‘OK’ and you would then see your new Python Path under the ‘User variables‘ section. Don’t forget to press ‘OK‘ again so that the changes will get implemented.<br>"
   ]
  },
  {
   "cell_type": "markdown",
   "id": "dcaab94c-59c5-4bec-9204-e399ef870d8a",
   "metadata": {},
   "source": [
    "Q16. Is Indentation required in python? <br>\n",
    "\n",
    "Ans.<br>\n",
    "Yes, Indentation required in python."
   ]
  }
 ],
 "metadata": {
  "kernelspec": {
   "display_name": "Python 3 (ipykernel)",
   "language": "python",
   "name": "python3"
  },
  "language_info": {
   "codemirror_mode": {
    "name": "ipython",
    "version": 3
   },
   "file_extension": ".py",
   "mimetype": "text/x-python",
   "name": "python",
   "nbconvert_exporter": "python",
   "pygments_lexer": "ipython3",
   "version": "3.10.8"
  }
 },
 "nbformat": 4,
 "nbformat_minor": 5
}
